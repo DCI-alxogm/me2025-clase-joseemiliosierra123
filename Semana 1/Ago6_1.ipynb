{
  "nbformat": 4,
  "nbformat_minor": 0,
  "metadata": {
    "colab": {
      "provenance": [],
      "authorship_tag": "ABX9TyOLHlN2DKdyO3lS1l4iurm+",
      "include_colab_link": true
    },
    "kernelspec": {
      "name": "python3",
      "display_name": "Python 3"
    },
    "language_info": {
      "name": "python"
    }
  },
  "cells": [
    {
      "cell_type": "markdown",
      "metadata": {
        "id": "view-in-github",
        "colab_type": "text"
      },
      "source": [
        "<a href=\"https://colab.research.google.com/github/DCI-alxogm/me2025-clase-joseemiliosierra123/blob/main/Semana%201/Ago6_1.ipynb\" target=\"_parent\"><img src=\"https://colab.research.google.com/assets/colab-badge.svg\" alt=\"Open In Colab\"/></a>"
      ]
    },
    {
      "cell_type": "code",
      "execution_count": null,
      "metadata": {
        "id": "ACO-e5D6XhfL"
      },
      "outputs": [],
      "source": [
        "# Este es mi primer cuaderno de Jupyter"
      ]
    }
  ]
}