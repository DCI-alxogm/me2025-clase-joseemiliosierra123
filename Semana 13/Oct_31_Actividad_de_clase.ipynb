{
  "nbformat": 4,
  "nbformat_minor": 0,
  "metadata": {
    "colab": {
      "provenance": []
    },
    "kernelspec": {
      "name": "python3",
      "display_name": "Python 3"
    },
    "language_info": {
      "name": "python"
    }
  },
  "cells": [
    {
      "cell_type": "code",
      "source": [
        "from scipy.linalg import lu,lu_solve,lu_factor\n",
        "from scipy.linalg import solve\n",
        "from scipy.linalg import inv"
      ],
      "metadata": {
        "id": "-O3PuSWIHO8Y"
      },
      "execution_count": 51,
      "outputs": []
    },
    {
      "cell_type": "code",
      "source": [
        "import numpy as np\n",
        "import matplotlib.pyplot as plt"
      ],
      "metadata": {
        "id": "A9Bgp05RHaWA"
      },
      "execution_count": 52,
      "outputs": []
    },
    {
      "cell_type": "code",
      "source": [
        "A = [[3, -0.1, -0.2],[0.1, 7, -0.3],[0.3, -0.2, 10]]\n",
        "p,l,u=lu(A)\n",
        "print(p)\n",
        "print(l)\n",
        "print(u)"
      ],
      "metadata": {
        "id": "Ui3h9XlOHcmY",
        "colab": {
          "base_uri": "https://localhost:8080/"
        },
        "outputId": "4e60b64d-1d16-47ad-ea80-c90ce88840e3"
      },
      "execution_count": 53,
      "outputs": [
        {
          "output_type": "stream",
          "name": "stdout",
          "text": [
            "[[1. 0. 0.]\n",
            " [0. 1. 0.]\n",
            " [0. 0. 1.]]\n",
            "[[ 1.          0.          0.        ]\n",
            " [ 0.03333333  1.          0.        ]\n",
            " [ 0.1        -0.02712994  1.        ]]\n",
            "[[ 3.         -0.1        -0.2       ]\n",
            " [ 0.          7.00333333 -0.29333333]\n",
            " [ 0.          0.         10.01204188]]\n"
          ]
        }
      ]
    },
    {
      "cell_type": "code",
      "source": [
        "b=[7.85, -19.3, 71.4]"
      ],
      "metadata": {
        "id": "6wyAImJuIbMY"
      },
      "execution_count": 54,
      "outputs": []
    },
    {
      "cell_type": "code",
      "source": [
        "solve(A,b)"
      ],
      "metadata": {
        "colab": {
          "base_uri": "https://localhost:8080/"
        },
        "id": "pNfHLpQTIUaY",
        "outputId": "1d3031cf-4d77-4f12-f572-0fd0b6a39abd"
      },
      "execution_count": 55,
      "outputs": [
        {
          "output_type": "execute_result",
          "data": {
            "text/plain": [
              "array([ 3. , -2.5,  7. ])"
            ]
          },
          "metadata": {},
          "execution_count": 55
        }
      ]
    },
    {
      "cell_type": "code",
      "source": [
        "lu,piv=lu_factor(A)\n",
        "lu_solve((lu,piv),b)"
      ],
      "metadata": {
        "colab": {
          "base_uri": "https://localhost:8080/"
        },
        "id": "17yVMbaKIi5g",
        "outputId": "a232a899-7261-4a7d-aa29-c663bbd6140a"
      },
      "execution_count": 56,
      "outputs": [
        {
          "output_type": "execute_result",
          "data": {
            "text/plain": [
              "array([ 3. , -2.5,  7. ])"
            ]
          },
          "metadata": {},
          "execution_count": 56
        }
      ]
    },
    {
      "cell_type": "code",
      "source": [
        "lu,piv"
      ],
      "metadata": {
        "colab": {
          "base_uri": "https://localhost:8080/"
        },
        "id": "UGkWd1pmIumQ",
        "outputId": "0c194ebd-f65f-43dd-d3b2-87865ab5fb58"
      },
      "execution_count": 57,
      "outputs": [
        {
          "output_type": "execute_result",
          "data": {
            "text/plain": [
              "(array([[ 3.        , -0.1       , -0.2       ],\n",
              "        [ 0.03333333,  7.00333333, -0.29333333],\n",
              "        [ 0.1       , -0.02712994, 10.01204188]]),\n",
              " array([0, 1, 2], dtype=int32))"
            ]
          },
          "metadata": {},
          "execution_count": 57
        }
      ]
    },
    {
      "cell_type": "code",
      "source": [
        "#OPTIMIZACIÓN"
      ],
      "metadata": {
        "id": "lo_ON-rrJl8h"
      },
      "execution_count": 58,
      "outputs": []
    },
    {
      "cell_type": "code",
      "source": [
        "fx = lambda x: 2*np.sin(x)-x**2/10"
      ],
      "metadata": {
        "id": "9prxk8AdJpLv"
      },
      "execution_count": 59,
      "outputs": []
    },
    {
      "cell_type": "code",
      "source": [
        "x=np.linspace(0, 5)\n",
        "plt.plot(x, fx(x))"
      ],
      "metadata": {
        "colab": {
          "base_uri": "https://localhost:8080/",
          "height": 448
        },
        "id": "CFpOS9DfKBI2",
        "outputId": "2d60cb80-ddda-4a7c-81b5-2a6facc4f691"
      },
      "execution_count": 60,
      "outputs": [
        {
          "output_type": "execute_result",
          "data": {
            "text/plain": [
              "[<matplotlib.lines.Line2D at 0x7b47ca9897c0>]"
            ]
          },
          "metadata": {},
          "execution_count": 60
        },
        {
          "output_type": "display_data",
          "data": {
            "text/plain": [
              "<Figure size 640x480 with 1 Axes>"
            ],
            "image/png": "[encoded data removed]"
          },
          "metadata": {}
        }
      ]
    }
  ]
}