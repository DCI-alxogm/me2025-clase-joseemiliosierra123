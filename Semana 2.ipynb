{
  "nbformat": 4,
  "nbformat_minor": 0,
  "metadata": {
    "colab": {
      "provenance": [],
      "authorship_tag": "ABX9TyO3b55jeQfNuMp9XtBlY0Vi",
      "include_colab_link": true
    },
    "kernelspec": {
      "name": "python3",
      "display_name": "Python 3"
    },
    "language_info": {
      "name": "python"
    }
  },
  "cells": [
    {
      "cell_type": "markdown",
      "metadata": {
        "id": "view-in-github",
        "colab_type": "text"
      },
      "source": [
        "<a href=\"https://colab.research.google.com/github/DCI-alxogm/me2025-clase-joseemiliosierra123/blob/main/Semana%202.ipynb\" target=\"_parent\"><img src=\"https://colab.research.google.com/assets/colab-badge.svg\" alt=\"Open In Colab\"/></a>"
      ]
    },
    {
      "cell_type": "code",
      "execution_count": null,
      "metadata": {
        "id": "6gRox8ezIKsd"
      },
      "outputs": [],
      "source": [
        "!gcc Ago_12_ej_1.c -lm -o Ago_12_ej_1.out"
      ]
    },
    {
      "cell_type": "code",
      "source": [
        "!gcc Ago_13_operaciones_int.c -lm -o Ago_13_operaciones_int.out\n",
        "!gcc Ago_13_operaciones_float.c -lm -o Ago_13_operaciones_float.out"
      ],
      "metadata": {
        "id": "wn9zhfWKFjJM"
      },
      "execution_count": 3,
      "outputs": []
    },
    {
      "cell_type": "code",
      "source": [
        "! ./Ago_13_operaciones_int.out\n",
        "\n",
        "! ./Ago_13_operaciones_float.out"
      ],
      "metadata": {
        "colab": {
          "base_uri": "https://localhost:8080/"
        },
        "collapsed": true,
        "id": "IUnnB6PaFs_z",
        "outputId": "1ac16ce1-c951-4451-88b1-6013d9e7280f"
      },
      "execution_count": 4,
      "outputs": [
        {
          "output_type": "stream",
          "name": "stdout",
          "text": [
            "e=(a+b)*c/d= 5 \n",
            "e=((a+b)*c)/d= 5\n",
            "e=a+(b*c)/d= 5\n",
            "e=a+b*c/d= 5\n",
            "e=(a+b)*c/d= 5.000000 \n",
            "e=((a+b)*c)/d= 5.000000\n",
            "e=a+(b*c)/d= 5.857143\n",
            "e=a+b*c/d= 5.857143\n"
          ]
        }
      ]
    },
    {
      "cell_type": "code",
      "source": [
        "! ./Ago_12_ej_1.out"
      ],
      "metadata": {
        "colab": {
          "base_uri": "https://localhost:8080/"
        },
        "id": "EAq5ssO3L4OK",
        "outputId": "a8403619-081f-40c7-bc0b-49fa1f31ec5d",
        "collapsed": true
      },
      "execution_count": null,
      "outputs": [
        {
          "output_type": "stream",
          "name": "stdout",
          "text": [
            "x\t x^2\t log(x+1)\t exp(x)+cos(x)\n",
            "1 1\n",
            "x^2=1\n",
            " e^x+cos(x)=3.258584\n",
            "2 0\n",
            "x=2\n",
            " log(x+1)=0.477121\n",
            "3 1\n",
            "x^2=9\n",
            " e^x+cos(x)=19.095545\n",
            "4 0\n",
            "x=4\n",
            " log(x+1)=0.698970\n",
            "5 1\n",
            "x^2=25\n",
            " e^x+cos(x)=148.696823\n",
            "\n",
            "Resultados:\n",
            "3.258584\n",
            "0.477121\n",
            "19.095545\n",
            "0.698970\n",
            "148.696823\n",
            "\n",
            "En float: Pi+Pi=6.283185\n",
            "\n",
            "En double: Pi+Pi=6.283185\n"
          ]
        }
      ]
    },
    {
      "cell_type": "code",
      "source": [
        "!gcc Ago_13_print_limites.c -lm -o Ago_13_print_limites.out"
      ],
      "metadata": {
        "id": "BciBUYxKGJjO"
      },
      "execution_count": 5,
      "outputs": []
    },
    {
      "cell_type": "code",
      "source": [
        "! ./Ago_13_print_limites.out"
      ],
      "metadata": {
        "colab": {
          "base_uri": "https://localhost:8080/"
        },
        "id": "Vl5124G8GQSh",
        "outputId": "a037ccff-db64-47b1-ed71-b4d739e38257"
      },
      "execution_count": 6,
      "outputs": [
        {
          "output_type": "stream",
          "name": "stdout",
          "text": [
            "UINT_MAX = 4294967295 \n",
            "ShortINT_MAX = 32767 \n",
            "ShortINT_MIN = -32768 \n",
            "INT_MAX = 2147483647 \n",
            "INT_MIN = -2147483648 \n",
            "FLT_MIN      = 1.175494e-38\n",
            "FLT_MAX      = 3.402823e+38\n",
            "DBL_MIN      = 2.225074e-308\n",
            "DBL_MAX      = 1.797693e+308\n",
            "LDBL_MIN      = 3.362103e-4932\n",
            "LDBL_MAX      = 1.189731e+4932\n",
            "FLT_EPSILON  = 1.192093e-07\n",
            "DBL_EPSILON  = 2.220446e-16\n",
            "LBL_EPSILON  = 1.084202e-19\n",
            "FLT_DIG      = 6\n",
            "DBL_DIG      = 15\n",
            "LBDL_DIG      = 18\n",
            "FLT_MANT_DIG = 24\n",
            "DBL_MANT_DIG = 53\n",
            "LDBL_MANT_DIG = 64\n"
          ]
        }
      ]
    }
  ]
}