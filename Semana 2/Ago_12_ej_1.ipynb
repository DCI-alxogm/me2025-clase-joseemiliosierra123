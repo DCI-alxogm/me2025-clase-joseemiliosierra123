{
  "nbformat": 4,
  "nbformat_minor": 0,
  "metadata": {
    "colab": {
      "provenance": [],
      "toc_visible": true,
      "authorship_tag": "ABX9TyNMdkTsHBl3isPtDRmMraMs",
      "include_colab_link": true
    },
    "kernelspec": {
      "name": "python3",
      "display_name": "Python 3"
    },
    "language_info": {
      "name": "python"
    }
  },
  "cells": [
    {
      "cell_type": "markdown",
      "metadata": {
        "id": "view-in-github",
        "colab_type": "text"
      },
      "source": [
        "<a href=\"https://colab.research.google.com/github/DCI-alxogm/me2025-clase-joseemiliosierra123/blob/main/Semana%202/Ago_12_ej_1.ipynb\" target=\"_parent\"><img src=\"https://colab.research.google.com/assets/colab-badge.svg\" alt=\"Open In Colab\"/></a>"
      ]
    },
    {
      "cell_type": "code",
      "execution_count": 29,
      "metadata": {
        "id": "6gRox8ezIKsd"
      },
      "outputs": [],
      "source": [
        "!gcc Ago_12_ej_1.c -lm -o Ago_12_ej_1.out"
      ]
    },
    {
      "cell_type": "code",
      "source": [
        "! ./Ago_12_ej_1.out"
      ],
      "metadata": {
        "colab": {
          "base_uri": "https://localhost:8080/"
        },
        "id": "EAq5ssO3L4OK",
        "outputId": "a8403619-081f-40c7-bc0b-49fa1f31ec5d"
      },
      "execution_count": 30,
      "outputs": [
        {
          "output_type": "stream",
          "name": "stdout",
          "text": [
            "x\t x^2\t log(x+1)\t exp(x)+cos(x)\n",
            "1 1\n",
            "x^2=1\n",
            " e^x+cos(x)=3.258584\n",
            "2 0\n",
            "x=2\n",
            " log(x+1)=0.477121\n",
            "3 1\n",
            "x^2=9\n",
            " e^x+cos(x)=19.095545\n",
            "4 0\n",
            "x=4\n",
            " log(x+1)=0.698970\n",
            "5 1\n",
            "x^2=25\n",
            " e^x+cos(x)=148.696823\n",
            "\n",
            "Resultados:\n",
            "3.258584\n",
            "0.477121\n",
            "19.095545\n",
            "0.698970\n",
            "148.696823\n",
            "\n",
            "En float: Pi+Pi=6.283185\n",
            "\n",
            "En double: Pi+Pi=6.283185\n"
          ]
        }
      ]
    }
  ]
}